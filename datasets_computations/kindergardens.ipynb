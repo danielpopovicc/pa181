{
 "cells": [
  {
   "cell_type": "code",
   "execution_count": 2,
   "metadata": {
    "collapsed": true
   },
   "outputs": [],
   "source": [
    "import geopandas\n",
    "from geopandas import GeoSeries\n",
    "import pandas as pd\n",
    "\n",
    "gpd_skolky = geopandas.read_file('../assets/skolky.geojson')\n",
    "addresses = pd.read_csv('../assets/adresní_místa___Address_points.csv')\n",
    "# addresses_geo = geopandas.read_file('../assets/adresní_místa___Address_points.csv')"
   ]
  },
  {
   "cell_type": "code",
   "execution_count": 3,
   "outputs": [
    {
     "data": {
      "text/plain": "   ObjectId  objectid_12  kod_ruian  cislo_domo  cislo_orie cislo_or_1  \\\n0         1            1   25753193         743           4              \n1         2            2   19216505         570           4              \n2         3            3   25753207         744          11              \n3         4            4   19216491         569          30              \n4         5            5   19217307         655          10              \n\n              mc   ulice_naze   kod         adresa              datum_exportu  \\\n0  BRNO-BOHUNICE  Amerlingova  2186  Amerlingova 4  2022-04-02T00:00:00+00:00   \n1  BRNO-BOHUNICE    Běloruská  2172    Běloruská 4  2022-04-02T00:00:00+00:00   \n2  BRNO-BOHUNICE     Švermova  2072    Švermova 11  2022-04-02T00:00:00+00:00   \n3  BRNO-BOHUNICE      Uzbecká  2180     Uzbecká 30  2022-04-02T00:00:00+00:00   \n4  BRNO-BOHUNICE     Vedlejší  2222    Vedlejší 10  2022-04-02T00:00:00+00:00   \n\n                                 GlobalID                   geometry  \n0  {0F9F797F-18F3-4553-BAFD-9D00F5ECBF36}  POINT (16.57844 49.16783)  \n1  {505B9F70-C39E-4025-A323-B0121C5C60BF}  POINT (16.58039 49.16869)  \n2  {AB2492B9-8486-4B95-8BC4-38A8E34F24D2}  POINT (16.57081 49.16770)  \n3  {6B84547B-B208-43D9-BEB1-73FC85697B50}  POINT (16.58172 49.17183)  \n4  {CFD932C7-2F27-487C-9E03-48A233F5CD88}  POINT (16.57156 49.17106)  ",
      "text/html": "<div>\n<style scoped>\n    .dataframe tbody tr th:only-of-type {\n        vertical-align: middle;\n    }\n\n    .dataframe tbody tr th {\n        vertical-align: top;\n    }\n\n    .dataframe thead th {\n        text-align: right;\n    }\n</style>\n<table border=\"1\" class=\"dataframe\">\n  <thead>\n    <tr style=\"text-align: right;\">\n      <th></th>\n      <th>ObjectId</th>\n      <th>objectid_12</th>\n      <th>kod_ruian</th>\n      <th>cislo_domo</th>\n      <th>cislo_orie</th>\n      <th>cislo_or_1</th>\n      <th>mc</th>\n      <th>ulice_naze</th>\n      <th>kod</th>\n      <th>adresa</th>\n      <th>datum_exportu</th>\n      <th>GlobalID</th>\n      <th>geometry</th>\n    </tr>\n  </thead>\n  <tbody>\n    <tr>\n      <th>0</th>\n      <td>1</td>\n      <td>1</td>\n      <td>25753193</td>\n      <td>743</td>\n      <td>4</td>\n      <td></td>\n      <td>BRNO-BOHUNICE</td>\n      <td>Amerlingova</td>\n      <td>2186</td>\n      <td>Amerlingova 4</td>\n      <td>2022-04-02T00:00:00+00:00</td>\n      <td>{0F9F797F-18F3-4553-BAFD-9D00F5ECBF36}</td>\n      <td>POINT (16.57844 49.16783)</td>\n    </tr>\n    <tr>\n      <th>1</th>\n      <td>2</td>\n      <td>2</td>\n      <td>19216505</td>\n      <td>570</td>\n      <td>4</td>\n      <td></td>\n      <td>BRNO-BOHUNICE</td>\n      <td>Běloruská</td>\n      <td>2172</td>\n      <td>Běloruská 4</td>\n      <td>2022-04-02T00:00:00+00:00</td>\n      <td>{505B9F70-C39E-4025-A323-B0121C5C60BF}</td>\n      <td>POINT (16.58039 49.16869)</td>\n    </tr>\n    <tr>\n      <th>2</th>\n      <td>3</td>\n      <td>3</td>\n      <td>25753207</td>\n      <td>744</td>\n      <td>11</td>\n      <td></td>\n      <td>BRNO-BOHUNICE</td>\n      <td>Švermova</td>\n      <td>2072</td>\n      <td>Švermova 11</td>\n      <td>2022-04-02T00:00:00+00:00</td>\n      <td>{AB2492B9-8486-4B95-8BC4-38A8E34F24D2}</td>\n      <td>POINT (16.57081 49.16770)</td>\n    </tr>\n    <tr>\n      <th>3</th>\n      <td>4</td>\n      <td>4</td>\n      <td>19216491</td>\n      <td>569</td>\n      <td>30</td>\n      <td></td>\n      <td>BRNO-BOHUNICE</td>\n      <td>Uzbecká</td>\n      <td>2180</td>\n      <td>Uzbecká 30</td>\n      <td>2022-04-02T00:00:00+00:00</td>\n      <td>{6B84547B-B208-43D9-BEB1-73FC85697B50}</td>\n      <td>POINT (16.58172 49.17183)</td>\n    </tr>\n    <tr>\n      <th>4</th>\n      <td>5</td>\n      <td>5</td>\n      <td>19217307</td>\n      <td>655</td>\n      <td>10</td>\n      <td></td>\n      <td>BRNO-BOHUNICE</td>\n      <td>Vedlejší</td>\n      <td>2222</td>\n      <td>Vedlejší 10</td>\n      <td>2022-04-02T00:00:00+00:00</td>\n      <td>{CFD932C7-2F27-487C-9E03-48A233F5CD88}</td>\n      <td>POINT (16.57156 49.17106)</td>\n    </tr>\n  </tbody>\n</table>\n</div>"
     },
     "execution_count": 3,
     "metadata": {},
     "output_type": "execute_result"
    }
   ],
   "source": [
    "gpd_skolky.head()"
   ],
   "metadata": {
    "collapsed": false,
    "pycharm": {
     "name": "#%%\n"
    }
   }
  },
  {
   "cell_type": "code",
   "execution_count": 4,
   "metadata": {
    "pycharm": {
     "name": "#%%\n"
    }
   },
   "outputs": [
    {
     "name": "stderr",
     "output_type": "stream",
     "text": [
      "/tmp/ipykernel_5210/2734867679.py:1: UserWarning: Geometry is in a geographic CRS. Results from 'buffer' are likely incorrect. Use 'GeoSeries.to_crs()' to re-project geometries to a projected CRS before this operation.\n",
      "\n",
      "  kinder_buffered = GeoSeries.to_crs(gpd_skolky['geometry'], crs=4326).buffer(0.005)\n"
     ]
    }
   ],
   "source": [
    "kinder_buffered = GeoSeries.to_crs(gpd_skolky['geometry'], crs=4326).buffer(0.005)"
   ]
  },
  {
   "cell_type": "code",
   "execution_count": 5,
   "metadata": {
    "pycharm": {
     "name": "#%%\n"
    }
   },
   "outputs": [
    {
     "name": "stderr",
     "output_type": "stream",
     "text": [
      "/home/pavolp/hackaton/pybakers_street_ranking/venv/lib/python3.9/site-packages/pandas/core/dtypes/cast.py:122: ShapelyDeprecationWarning: The array interface is deprecated and will no longer work in Shapely 2.0. Convert the '.coords' to a numpy array instead.\n",
      "  arr = construct_1d_object_array_from_listlike(values)\n"
     ]
    }
   ],
   "source": [
    "from shapely.geometry import Point\n",
    "\n",
    "addresses['point'] = addresses.apply(lambda address: Point(address.X, address.Y), axis=1)"
   ]
  },
  {
   "cell_type": "code",
   "execution_count": 6,
   "outputs": [],
   "source": [
    "points= geopandas.GeoSeries(addresses['point'], crs=4326)"
   ],
   "metadata": {
    "collapsed": false,
    "pycharm": {
     "name": "#%%\n"
    }
   }
  },
  {
   "cell_type": "code",
   "execution_count": 7,
   "outputs": [
    {
     "data": {
      "text/plain": "<AxesSubplot:>"
     },
     "execution_count": 7,
     "metadata": {},
     "output_type": "execute_result"
    },
    {
     "data": {
      "text/plain": "<Figure size 432x288 with 1 Axes>",
      "image/png": "[encoded data removed]"
     },
     "metadata": {
      "needs_background": "light"
     },
     "output_type": "display_data"
    }
   ],
   "source": [
    "kinder_buffered.plot()"
   ],
   "metadata": {
    "collapsed": false,
    "pycharm": {
     "name": "#%%\n"
    }
   }
  },
  {
   "cell_type": "code",
   "execution_count": 8,
   "outputs": [
    {
     "data": {
      "text/plain": "           X          Y  ObjectId obec_nazev  cislo_domovni  \\\n0  16.619237  49.197930         1       Brno          503.0   \n1  16.634682  49.212012         2       Brno          168.0   \n2  16.599852  49.200925         3       Brno          471.0   \n3  16.618347  49.234069         4       Brno          557.0   \n4  16.634752  49.194910         5       Brno         3280.0   \n\n   cislo_orientacni_hodnota cislo_orientacni_pismeno     ulice_nazev  \\\n0                      36.0                      NaN            Cejl   \n1                      51.0                      NaN  Dukelská třída   \n2                      29.0                      NaN          Veveří   \n3                      18.0                      NaN     Jurkovičova   \n4                      24.0                      NaN        Šámalova   \n\n  cobce_nazev      psc  stavobj_kod            puvod           datum_exportu  \\\n0  Zábrdovice  60200.0     19023804  geometrie z DMB  2022/04/09 00:00:00+00   \n1    Husovice  61400.0     19074514  geometrie z DMB  2022/04/09 00:00:00+00   \n2      Veveří  60200.0     19009470  geometrie z DMB  2022/04/09 00:00:00+00   \n3       Lesná  63800.0     19094621  geometrie z DMB  2022/04/09 00:00:00+00   \n4    Židenice  61500.0     19446969  geometrie z DMB  2022/04/09 00:00:00+00   \n\n                                 GlobalID  \\\n0  {0E8664CE-B764-4CE1-B2EF-47D19A00F184}   \n1  {623D79C4-808C-43FF-8A25-369759800C7A}   \n2  {60D52A3C-C5C5-464A-A5A5-A030D61295E8}   \n3  {44E9CA08-0425-4224-BD98-105D7D24B428}   \n4  {C8019433-F434-44E7-A071-8D0944542CBC}   \n\n                                       point  \n0      POINT (16.6192365260001 49.197930086)  \n1  POINT (16.6346821060001 49.2120119140001)  \n2  POINT (16.5998515210001 49.2009248000001)  \n3      POINT (16.618346554 49.2340689430001)  \n4      POINT (16.6347521340001 49.194909894)  ",
      "text/html": "<div>\n<style scoped>\n    .dataframe tbody tr th:only-of-type {\n        vertical-align: middle;\n    }\n\n    .dataframe tbody tr th {\n        vertical-align: top;\n    }\n\n    .dataframe thead th {\n        text-align: right;\n    }\n</style>\n<table border=\"1\" class=\"dataframe\">\n  <thead>\n    <tr style=\"text-align: right;\">\n      <th></th>\n      <th>X</th>\n      <th>Y</th>\n      <th>ObjectId</th>\n      <th>obec_nazev</th>\n      <th>cislo_domovni</th>\n      <th>cislo_orientacni_hodnota</th>\n      <th>cislo_orientacni_pismeno</th>\n      <th>ulice_nazev</th>\n      <th>cobce_nazev</th>\n      <th>psc</th>\n      <th>stavobj_kod</th>\n      <th>puvod</th>\n      <th>datum_exportu</th>\n      <th>GlobalID</th>\n      <th>point</th>\n    </tr>\n  </thead>\n  <tbody>\n    <tr>\n      <th>0</th>\n      <td>16.619237</td>\n      <td>49.197930</td>\n      <td>1</td>\n      <td>Brno</td>\n      <td>503.0</td>\n      <td>36.0</td>\n      <td>NaN</td>\n      <td>Cejl</td>\n      <td>Zábrdovice</td>\n      <td>60200.0</td>\n      <td>19023804</td>\n      <td>geometrie z DMB</td>\n      <td>2022/04/09 00:00:00+00</td>\n      <td>{0E8664CE-B764-4CE1-B2EF-47D19A00F184}</td>\n      <td>POINT (16.6192365260001 49.197930086)</td>\n    </tr>\n    <tr>\n      <th>1</th>\n      <td>16.634682</td>\n      <td>49.212012</td>\n      <td>2</td>\n      <td>Brno</td>\n      <td>168.0</td>\n      <td>51.0</td>\n      <td>NaN</td>\n      <td>Dukelská třída</td>\n      <td>Husovice</td>\n      <td>61400.0</td>\n      <td>19074514</td>\n      <td>geometrie z DMB</td>\n      <td>2022/04/09 00:00:00+00</td>\n      <td>{623D79C4-808C-43FF-8A25-369759800C7A}</td>\n      <td>POINT (16.6346821060001 49.2120119140001)</td>\n    </tr>\n    <tr>\n      <th>2</th>\n      <td>16.599852</td>\n      <td>49.200925</td>\n      <td>3</td>\n      <td>Brno</td>\n      <td>471.0</td>\n      <td>29.0</td>\n      <td>NaN</td>\n      <td>Veveří</td>\n      <td>Veveří</td>\n      <td>60200.0</td>\n      <td>19009470</td>\n      <td>geometrie z DMB</td>\n      <td>2022/04/09 00:00:00+00</td>\n      <td>{60D52A3C-C5C5-464A-A5A5-A030D61295E8}</td>\n      <td>POINT (16.5998515210001 49.2009248000001)</td>\n    </tr>\n    <tr>\n      <th>3</th>\n      <td>16.618347</td>\n      <td>49.234069</td>\n      <td>4</td>\n      <td>Brno</td>\n      <td>557.0</td>\n      <td>18.0</td>\n      <td>NaN</td>\n      <td>Jurkovičova</td>\n      <td>Lesná</td>\n      <td>63800.0</td>\n      <td>19094621</td>\n      <td>geometrie z DMB</td>\n      <td>2022/04/09 00:00:00+00</td>\n      <td>{44E9CA08-0425-4224-BD98-105D7D24B428}</td>\n      <td>POINT (16.618346554 49.2340689430001)</td>\n    </tr>\n    <tr>\n      <th>4</th>\n      <td>16.634752</td>\n      <td>49.194910</td>\n      <td>5</td>\n      <td>Brno</td>\n      <td>3280.0</td>\n      <td>24.0</td>\n      <td>NaN</td>\n      <td>Šámalova</td>\n      <td>Židenice</td>\n      <td>61500.0</td>\n      <td>19446969</td>\n      <td>geometrie z DMB</td>\n      <td>2022/04/09 00:00:00+00</td>\n      <td>{C8019433-F434-44E7-A071-8D0944542CBC}</td>\n      <td>POINT (16.6347521340001 49.194909894)</td>\n    </tr>\n  </tbody>\n</table>\n</div>"
     },
     "execution_count": 8,
     "metadata": {},
     "output_type": "execute_result"
    }
   ],
   "source": [
    "addresses.head()"
   ],
   "metadata": {
    "collapsed": false,
    "pycharm": {
     "name": "#%%\n"
    }
   }
  },
  {
   "cell_type": "code",
   "execution_count": 9,
   "outputs": [],
   "source": [
    "results = kinder_buffered.apply(lambda school: points.within(school))"
   ],
   "metadata": {
    "collapsed": false,
    "pycharm": {
     "name": "#%%\n"
    }
   }
  },
  {
   "cell_type": "code",
   "execution_count": 10,
   "outputs": [
    {
     "data": {
      "text/plain": "     0      1      2      3      4      5      6      7      8      9      \\\n0    False  False  False  False  False  False  False  False  False  False   \n1    False  False  False  False  False  False  False  False  False  False   \n2    False  False  False  False  False  False  False  False  False  False   \n3    False  False  False  False  False  False  False  False  False  False   \n4    False  False  False  False  False  False  False  False  False  False   \n..     ...    ...    ...    ...    ...    ...    ...    ...    ...    ...   \n132  False  False  False  False  False  False  False  False  False  False   \n133  False  False  False  False  False  False  False  False  False  False   \n134  False  False  False  False  False  False  False  False  False  False   \n135  False  False  False  False  False  False  False  False  False  False   \n136  False  False  False  False  False  False  False  False  False  False   \n\n     ...  62541  62542  62543  62544  62545  62546  62547  62548  62549  62550  \n0    ...  False  False  False  False  False  False  False  False  False  False  \n1    ...  False  False  False  False  False  False  False  False  False  False  \n2    ...  False  False  False  False  False  False  False  False  False  False  \n3    ...  False  False  False  False  False  False  False  False  False  False  \n4    ...  False  False  False  False  False  False  False  False  False  False  \n..   ...    ...    ...    ...    ...    ...    ...    ...    ...    ...    ...  \n132  ...  False  False  False  False  False  False  False  False  False  False  \n133  ...  False  False  False  False  False  False  False  False  False  False  \n134  ...  False  False  False  False  False  False  False  False   True  False  \n135  ...  False  False  False  False  False  False  False  False  False  False  \n136  ...  False  False  False  False  False  False  False  False  False  False  \n\n[137 rows x 62551 columns]",
      "text/html": "<div>\n<style scoped>\n    .dataframe tbody tr th:only-of-type {\n        vertical-align: middle;\n    }\n\n    .dataframe tbody tr th {\n        vertical-align: top;\n    }\n\n    .dataframe thead th {\n        text-align: right;\n    }\n</style>\n<table border=\"1\" class=\"dataframe\">\n  <thead>\n    <tr style=\"text-align: right;\">\n      <th></th>\n      <th>0</th>\n      <th>1</th>\n      <th>2</th>\n      <th>3</th>\n      <th>4</th>\n      <th>5</th>\n      <th>6</th>\n      <th>7</th>\n      <th>8</th>\n      <th>9</th>\n      <th>...</th>\n      <th>62541</th>\n      <th>62542</th>\n      <th>62543</th>\n      <th>62544</th>\n      <th>62545</th>\n      <th>62546</th>\n      <th>62547</th>\n      <th>62548</th>\n      <th>62549</th>\n      <th>62550</th>\n    </tr>\n  </thead>\n  <tbody>\n    <tr>\n      <th>0</th>\n      <td>False</td>\n      <td>False</td>\n      <td>False</td>\n      <td>False</td>\n      <td>False</td>\n      <td>False</td>\n      <td>False</td>\n      <td>False</td>\n      <td>False</td>\n      <td>False</td>\n      <td>...</td>\n      <td>False</td>\n      <td>False</td>\n      <td>False</td>\n      <td>False</td>\n      <td>False</td>\n      <td>False</td>\n      <td>False</td>\n      <td>False</td>\n      <td>False</td>\n      <td>False</td>\n    </tr>\n    <tr>\n      <th>1</th>\n      <td>False</td>\n      <td>False</td>\n      <td>False</td>\n      <td>False</td>\n      <td>False</td>\n      <td>False</td>\n      <td>False</td>\n      <td>False</td>\n      <td>False</td>\n      <td>False</td>\n      <td>...</td>\n      <td>False</td>\n      <td>False</td>\n      <td>False</td>\n      <td>False</td>\n      <td>False</td>\n      <td>False</td>\n      <td>False</td>\n      <td>False</td>\n      <td>False</td>\n      <td>False</td>\n    </tr>\n    <tr>\n      <th>2</th>\n      <td>False</td>\n      <td>False</td>\n      <td>False</td>\n      <td>False</td>\n      <td>False</td>\n      <td>False</td>\n      <td>False</td>\n      <td>False</td>\n      <td>False</td>\n      <td>False</td>\n      <td>...</td>\n      <td>False</td>\n      <td>False</td>\n      <td>False</td>\n      <td>False</td>\n      <td>False</td>\n      <td>False</td>\n      <td>False</td>\n      <td>False</td>\n      <td>False</td>\n      <td>False</td>\n    </tr>\n    <tr>\n      <th>3</th>\n      <td>False</td>\n      <td>False</td>\n      <td>False</td>\n      <td>False</td>\n      <td>False</td>\n      <td>False</td>\n      <td>False</td>\n      <td>False</td>\n      <td>False</td>\n      <td>False</td>\n      <td>...</td>\n      <td>False</td>\n      <td>False</td>\n      <td>False</td>\n      <td>False</td>\n      <td>False</td>\n      <td>False</td>\n      <td>False</td>\n      <td>False</td>\n      <td>False</td>\n      <td>False</td>\n    </tr>\n    <tr>\n      <th>4</th>\n      <td>False</td>\n      <td>False</td>\n      <td>False</td>\n      <td>False</td>\n      <td>False</td>\n      <td>False</td>\n      <td>False</td>\n      <td>False</td>\n      <td>False</td>\n      <td>False</td>\n      <td>...</td>\n      <td>False</td>\n      <td>False</td>\n      <td>False</td>\n      <td>False</td>\n      <td>False</td>\n      <td>False</td>\n      <td>False</td>\n      <td>False</td>\n      <td>False</td>\n      <td>False</td>\n    </tr>\n    <tr>\n      <th>...</th>\n      <td>...</td>\n      <td>...</td>\n      <td>...</td>\n      <td>...</td>\n      <td>...</td>\n      <td>...</td>\n      <td>...</td>\n      <td>...</td>\n      <td>...</td>\n      <td>...</td>\n      <td>...</td>\n      <td>...</td>\n      <td>...</td>\n      <td>...</td>\n      <td>...</td>\n      <td>...</td>\n      <td>...</td>\n      <td>...</td>\n      <td>...</td>\n      <td>...</td>\n      <td>...</td>\n    </tr>\n    <tr>\n      <th>132</th>\n      <td>False</td>\n      <td>False</td>\n      <td>False</td>\n      <td>False</td>\n      <td>False</td>\n      <td>False</td>\n      <td>False</td>\n      <td>False</td>\n      <td>False</td>\n      <td>False</td>\n      <td>...</td>\n      <td>False</td>\n      <td>False</td>\n      <td>False</td>\n      <td>False</td>\n      <td>False</td>\n      <td>False</td>\n      <td>False</td>\n      <td>False</td>\n      <td>False</td>\n      <td>False</td>\n    </tr>\n    <tr>\n      <th>133</th>\n      <td>False</td>\n      <td>False</td>\n      <td>False</td>\n      <td>False</td>\n      <td>False</td>\n      <td>False</td>\n      <td>False</td>\n      <td>False</td>\n      <td>False</td>\n      <td>False</td>\n      <td>...</td>\n      <td>False</td>\n      <td>False</td>\n      <td>False</td>\n      <td>False</td>\n      <td>False</td>\n      <td>False</td>\n      <td>False</td>\n      <td>False</td>\n      <td>False</td>\n      <td>False</td>\n    </tr>\n    <tr>\n      <th>134</th>\n      <td>False</td>\n      <td>False</td>\n      <td>False</td>\n      <td>False</td>\n      <td>False</td>\n      <td>False</td>\n      <td>False</td>\n      <td>False</td>\n      <td>False</td>\n      <td>False</td>\n      <td>...</td>\n      <td>False</td>\n      <td>False</td>\n      <td>False</td>\n      <td>False</td>\n      <td>False</td>\n      <td>False</td>\n      <td>False</td>\n      <td>False</td>\n      <td>True</td>\n      <td>False</td>\n    </tr>\n    <tr>\n      <th>135</th>\n      <td>False</td>\n      <td>False</td>\n      <td>False</td>\n      <td>False</td>\n      <td>False</td>\n      <td>False</td>\n      <td>False</td>\n      <td>False</td>\n      <td>False</td>\n      <td>False</td>\n      <td>...</td>\n      <td>False</td>\n      <td>False</td>\n      <td>False</td>\n      <td>False</td>\n      <td>False</td>\n      <td>False</td>\n      <td>False</td>\n      <td>False</td>\n      <td>False</td>\n      <td>False</td>\n    </tr>\n    <tr>\n      <th>136</th>\n      <td>False</td>\n      <td>False</td>\n      <td>False</td>\n      <td>False</td>\n      <td>False</td>\n      <td>False</td>\n      <td>False</td>\n      <td>False</td>\n      <td>False</td>\n      <td>False</td>\n      <td>...</td>\n      <td>False</td>\n      <td>False</td>\n      <td>False</td>\n      <td>False</td>\n      <td>False</td>\n      <td>False</td>\n      <td>False</td>\n      <td>False</td>\n      <td>False</td>\n      <td>False</td>\n    </tr>\n  </tbody>\n</table>\n<p>137 rows × 62551 columns</p>\n</div>"
     },
     "execution_count": 10,
     "metadata": {},
     "output_type": "execute_result"
    }
   ],
   "source": [
    "results"
   ],
   "metadata": {
    "collapsed": false,
    "pycharm": {
     "name": "#%%\n"
    }
   }
  },
  {
   "cell_type": "code",
   "execution_count": 11,
   "outputs": [],
   "source": [
    "t = results.transpose()"
   ],
   "metadata": {
    "collapsed": false,
    "pycharm": {
     "name": "#%%\n"
    }
   }
  },
  {
   "cell_type": "code",
   "execution_count": 12,
   "outputs": [
    {
     "data": {
      "text/plain": "         0      1      2      3      4      5      6      7      8      9    \\\n0      False  False  False  False  False  False  False  False  False  False   \n1      False  False  False  False  False  False  False  False  False  False   \n2      False  False  False  False  False  False  False  False  False  False   \n3      False  False  False  False  False  False  False  False  False  False   \n4      False  False  False  False  False  False  False  False  False  False   \n...      ...    ...    ...    ...    ...    ...    ...    ...    ...    ...   \n62546  False  False  False  False  False  False  False  False  False  False   \n62547  False  False  False  False  False  False  False  False  False  False   \n62548  False  False  False  False  False  False  False  False  False  False   \n62549  False  False  False  False  False  False  False  False  False  False   \n62550  False  False  False  False  False  False  False  False  False  False   \n\n       ...    127    128    129    130    131    132    133    134    135  \\\n0      ...  False  False  False  False  False  False  False  False  False   \n1      ...  False  False  False  False  False  False  False  False  False   \n2      ...  False  False  False  False  False  False  False  False  False   \n3      ...  False  False  False  False  False  False  False  False  False   \n4      ...  False  False   True  False  False  False  False  False  False   \n...    ...    ...    ...    ...    ...    ...    ...    ...    ...    ...   \n62546  ...  False  False  False  False  False  False  False  False  False   \n62547  ...  False  False  False  False  False  False  False  False  False   \n62548  ...  False  False  False  False  False  False  False  False  False   \n62549  ...  False  False  False  False  False  False  False   True  False   \n62550  ...  False  False  False  False  False  False  False  False  False   \n\n         136  \n0      False  \n1      False  \n2      False  \n3      False  \n4      False  \n...      ...  \n62546  False  \n62547  False  \n62548  False  \n62549  False  \n62550  False  \n\n[62551 rows x 137 columns]",
      "text/html": "<div>\n<style scoped>\n    .dataframe tbody tr th:only-of-type {\n        vertical-align: middle;\n    }\n\n    .dataframe tbody tr th {\n        vertical-align: top;\n    }\n\n    .dataframe thead th {\n        text-align: right;\n    }\n</style>\n<table border=\"1\" class=\"dataframe\">\n  <thead>\n    <tr style=\"text-align: right;\">\n      <th></th>\n      <th>0</th>\n      <th>1</th>\n      <th>2</th>\n      <th>3</th>\n      <th>4</th>\n      <th>5</th>\n      <th>6</th>\n      <th>7</th>\n      <th>8</th>\n      <th>9</th>\n      <th>...</th>\n      <th>127</th>\n      <th>128</th>\n      <th>129</th>\n      <th>130</th>\n      <th>131</th>\n      <th>132</th>\n      <th>133</th>\n      <th>134</th>\n      <th>135</th>\n      <th>136</th>\n    </tr>\n  </thead>\n  <tbody>\n    <tr>\n      <th>0</th>\n      <td>False</td>\n      <td>False</td>\n      <td>False</td>\n      <td>False</td>\n      <td>False</td>\n      <td>False</td>\n      <td>False</td>\n      <td>False</td>\n      <td>False</td>\n      <td>False</td>\n      <td>...</td>\n      <td>False</td>\n      <td>False</td>\n      <td>False</td>\n      <td>False</td>\n      <td>False</td>\n      <td>False</td>\n      <td>False</td>\n      <td>False</td>\n      <td>False</td>\n      <td>False</td>\n    </tr>\n    <tr>\n      <th>1</th>\n      <td>False</td>\n      <td>False</td>\n      <td>False</td>\n      <td>False</td>\n      <td>False</td>\n      <td>False</td>\n      <td>False</td>\n      <td>False</td>\n      <td>False</td>\n      <td>False</td>\n      <td>...</td>\n      <td>False</td>\n      <td>False</td>\n      <td>False</td>\n      <td>False</td>\n      <td>False</td>\n      <td>False</td>\n      <td>False</td>\n      <td>False</td>\n      <td>False</td>\n      <td>False</td>\n    </tr>\n    <tr>\n      <th>2</th>\n      <td>False</td>\n      <td>False</td>\n      <td>False</td>\n      <td>False</td>\n      <td>False</td>\n      <td>False</td>\n      <td>False</td>\n      <td>False</td>\n      <td>False</td>\n      <td>False</td>\n      <td>...</td>\n      <td>False</td>\n      <td>False</td>\n      <td>False</td>\n      <td>False</td>\n      <td>False</td>\n      <td>False</td>\n      <td>False</td>\n      <td>False</td>\n      <td>False</td>\n      <td>False</td>\n    </tr>\n    <tr>\n      <th>3</th>\n      <td>False</td>\n      <td>False</td>\n      <td>False</td>\n      <td>False</td>\n      <td>False</td>\n      <td>False</td>\n      <td>False</td>\n      <td>False</td>\n      <td>False</td>\n      <td>False</td>\n      <td>...</td>\n      <td>False</td>\n      <td>False</td>\n      <td>False</td>\n      <td>False</td>\n      <td>False</td>\n      <td>False</td>\n      <td>False</td>\n      <td>False</td>\n      <td>False</td>\n      <td>False</td>\n    </tr>\n    <tr>\n      <th>4</th>\n      <td>False</td>\n      <td>False</td>\n      <td>False</td>\n      <td>False</td>\n      <td>False</td>\n      <td>False</td>\n      <td>False</td>\n      <td>False</td>\n      <td>False</td>\n      <td>False</td>\n      <td>...</td>\n      <td>False</td>\n      <td>False</td>\n      <td>True</td>\n      <td>False</td>\n      <td>False</td>\n      <td>False</td>\n      <td>False</td>\n      <td>False</td>\n      <td>False</td>\n      <td>False</td>\n    </tr>\n    <tr>\n      <th>...</th>\n      <td>...</td>\n      <td>...</td>\n      <td>...</td>\n      <td>...</td>\n      <td>...</td>\n      <td>...</td>\n      <td>...</td>\n      <td>...</td>\n      <td>...</td>\n      <td>...</td>\n      <td>...</td>\n      <td>...</td>\n      <td>...</td>\n      <td>...</td>\n      <td>...</td>\n      <td>...</td>\n      <td>...</td>\n      <td>...</td>\n      <td>...</td>\n      <td>...</td>\n      <td>...</td>\n    </tr>\n    <tr>\n      <th>62546</th>\n      <td>False</td>\n      <td>False</td>\n      <td>False</td>\n      <td>False</td>\n      <td>False</td>\n      <td>False</td>\n      <td>False</td>\n      <td>False</td>\n      <td>False</td>\n      <td>False</td>\n      <td>...</td>\n      <td>False</td>\n      <td>False</td>\n      <td>False</td>\n      <td>False</td>\n      <td>False</td>\n      <td>False</td>\n      <td>False</td>\n      <td>False</td>\n      <td>False</td>\n      <td>False</td>\n    </tr>\n    <tr>\n      <th>62547</th>\n      <td>False</td>\n      <td>False</td>\n      <td>False</td>\n      <td>False</td>\n      <td>False</td>\n      <td>False</td>\n      <td>False</td>\n      <td>False</td>\n      <td>False</td>\n      <td>False</td>\n      <td>...</td>\n      <td>False</td>\n      <td>False</td>\n      <td>False</td>\n      <td>False</td>\n      <td>False</td>\n      <td>False</td>\n      <td>False</td>\n      <td>False</td>\n      <td>False</td>\n      <td>False</td>\n    </tr>\n    <tr>\n      <th>62548</th>\n      <td>False</td>\n      <td>False</td>\n      <td>False</td>\n      <td>False</td>\n      <td>False</td>\n      <td>False</td>\n      <td>False</td>\n      <td>False</td>\n      <td>False</td>\n      <td>False</td>\n      <td>...</td>\n      <td>False</td>\n      <td>False</td>\n      <td>False</td>\n      <td>False</td>\n      <td>False</td>\n      <td>False</td>\n      <td>False</td>\n      <td>False</td>\n      <td>False</td>\n      <td>False</td>\n    </tr>\n    <tr>\n      <th>62549</th>\n      <td>False</td>\n      <td>False</td>\n      <td>False</td>\n      <td>False</td>\n      <td>False</td>\n      <td>False</td>\n      <td>False</td>\n      <td>False</td>\n      <td>False</td>\n      <td>False</td>\n      <td>...</td>\n      <td>False</td>\n      <td>False</td>\n      <td>False</td>\n      <td>False</td>\n      <td>False</td>\n      <td>False</td>\n      <td>False</td>\n      <td>True</td>\n      <td>False</td>\n      <td>False</td>\n    </tr>\n    <tr>\n      <th>62550</th>\n      <td>False</td>\n      <td>False</td>\n      <td>False</td>\n      <td>False</td>\n      <td>False</td>\n      <td>False</td>\n      <td>False</td>\n      <td>False</td>\n      <td>False</td>\n      <td>False</td>\n      <td>...</td>\n      <td>False</td>\n      <td>False</td>\n      <td>False</td>\n      <td>False</td>\n      <td>False</td>\n      <td>False</td>\n      <td>False</td>\n      <td>False</td>\n      <td>False</td>\n      <td>False</td>\n    </tr>\n  </tbody>\n</table>\n<p>62551 rows × 137 columns</p>\n</div>"
     },
     "execution_count": 12,
     "metadata": {},
     "output_type": "execute_result"
    }
   ],
   "source": [
    "t"
   ],
   "metadata": {
    "collapsed": false,
    "pycharm": {
     "name": "#%%\n"
    }
   }
  },
  {
   "cell_type": "code",
   "execution_count": 13,
   "outputs": [],
   "source": [
    "filtered_addresses=t.loc[(t == True).any(axis=1)]"
   ],
   "metadata": {
    "collapsed": false,
    "pycharm": {
     "name": "#%%\n"
    }
   }
  },
  {
   "cell_type": "code",
   "execution_count": 14,
   "outputs": [],
   "source": [
    "# num_of_schools= filtered_addresses.apply(lambda address: address[address==True].index, axis=1)"
   ],
   "metadata": {
    "collapsed": false,
    "pycharm": {
     "name": "#%%\n"
    }
   }
  },
  {
   "cell_type": "code",
   "execution_count": 19,
   "outputs": [],
   "source": [
    "num_of_schools_nearby = filtered_addresses.apply(lambda address: address[address==True].count(), axis=1)"
   ],
   "metadata": {
    "collapsed": false,
    "pycharm": {
     "name": "#%%\n"
    }
   }
  },
  {
   "cell_type": "code",
   "execution_count": 37,
   "outputs": [],
   "source": [
    "num_of_schools_nearby.index.name = 'address_idx'\n",
    "#num_of_schools_nearby.to_csv('skolky.csv')"
   ],
   "metadata": {
    "collapsed": false,
    "pycharm": {
     "name": "#%%\n"
    }
   }
  },
  {
   "cell_type": "markdown",
   "source": [],
   "metadata": {
    "collapsed": false,
    "pycharm": {
     "name": "#%% md\n"
    }
   }
  },
  {
   "cell_type": "code",
   "execution_count": 46,
   "outputs": [],
   "source": [
    "num_of_schools_nearby.name = 'count_of_kindergardens'"
   ],
   "metadata": {
    "collapsed": false,
    "pycharm": {
     "name": "#%%\n"
    }
   }
  },
  {
   "cell_type": "code",
   "execution_count": 51,
   "outputs": [
    {
     "data": {
      "text/plain": "address_idx\n0        2\n1        1\n2        1\n4        2\n5        1\n        ..\n62544    1\n62545    1\n62548    1\n62549    2\n62550    2\nName: count_of_kindergardens, Length: 37651, dtype: int64"
     },
     "execution_count": 51,
     "metadata": {},
     "output_type": "execute_result"
    }
   ],
   "source": [
    "num_of_schools_nearby"
   ],
   "metadata": {
    "collapsed": false,
    "pycharm": {
     "name": "#%%\n"
    }
   }
  },
  {
   "cell_type": "code",
   "execution_count": 53,
   "outputs": [],
   "source": [
    "num_of_schools_nearby.to_csv('skolky.csv', header=False)"
   ],
   "metadata": {
    "collapsed": false,
    "pycharm": {
     "name": "#%%\n"
    }
   }
  },
  {
   "cell_type": "markdown",
   "source": [],
   "metadata": {
    "collapsed": false,
    "pycharm": {
     "name": "#%% md\n"
    }
   }
  }
 ],
 "metadata": {
  "kernelspec": {
   "display_name": "Python 3 (ipykernel)",
   "language": "python",
   "name": "python3"
  },
  "language_info": {
   "codemirror_mode": {
    "name": "ipython",
    "version": 3
   },
   "file_extension": ".py",
   "mimetype": "text/x-python",
   "name": "python",
   "nbconvert_exporter": "python",
   "pygments_lexer": "ipython3",
   "version": "3.9.12"
  }
 },
 "nbformat": 4,
 "nbformat_minor": 1
}