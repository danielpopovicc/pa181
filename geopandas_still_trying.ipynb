{
 "cells": [
  {
   "cell_type": "code",
   "execution_count": 20,
   "metadata": {},
   "outputs": [],
   "source": [
    "import pandas as pd\n",
    "import geopandas as gpd"
   ]
  },
  {
   "cell_type": "code",
   "execution_count": 2,
   "metadata": {},
   "outputs": [],
   "source": [
    "filename = 'Vehicle_traffic_intensity.geojson'\n",
    "file = open(filename, 'rb')\n",
    "df_traffic = gpd.read_file(file)\n",
    "file.close()"
   ]
  },
  {
   "cell_type": "code",
   "execution_count": 197,
   "metadata": {},
   "outputs": [
    {
     "data": {
      "text/html": [
       "<div>\n",
       "<style scoped>\n",
       "    .dataframe tbody tr th:only-of-type {\n",
       "        vertical-align: middle;\n",
       "    }\n",
       "\n",
       "    .dataframe tbody tr th {\n",
       "        vertical-align: top;\n",
       "    }\n",
       "\n",
       "    .dataframe thead th {\n",
       "        text-align: right;\n",
       "    }\n",
       "</style>\n",
       "<table border=\"1\" class=\"dataframe\">\n",
       "  <thead>\n",
       "    <tr style=\"text-align: right;\">\n",
       "      <th></th>\n",
       "      <th>ObjectId</th>\n",
       "      <th>id</th>\n",
       "      <th>car_2016</th>\n",
       "      <th>truc_2016</th>\n",
       "      <th>car_2017</th>\n",
       "      <th>truc_2017</th>\n",
       "      <th>car_2018</th>\n",
       "      <th>truc_2018</th>\n",
       "      <th>car_2019</th>\n",
       "      <th>truc_2019</th>\n",
       "      <th>car_2020</th>\n",
       "      <th>truc_2020</th>\n",
       "      <th>datum_exportu</th>\n",
       "      <th>GlobalID</th>\n",
       "      <th>SHAPE_Length</th>\n",
       "      <th>geometry</th>\n",
       "    </tr>\n",
       "  </thead>\n",
       "  <tbody>\n",
       "    <tr>\n",
       "      <td>0</td>\n",
       "      <td>1</td>\n",
       "      <td>43</td>\n",
       "      <td>4</td>\n",
       "      <td>5</td>\n",
       "      <td>4</td>\n",
       "      <td>5</td>\n",
       "      <td>4</td>\n",
       "      <td>5</td>\n",
       "      <td>4</td>\n",
       "      <td>5</td>\n",
       "      <td>4</td>\n",
       "      <td>5</td>\n",
       "      <td>2022-04-07T00:00:00</td>\n",
       "      <td>{224F8442-FA09-40AB-99A0-BE6DA5E1D433}</td>\n",
       "      <td>0.006235</td>\n",
       "      <td>MULTILINESTRING ((16.60537 49.20589, 16.60192 ...</td>\n",
       "    </tr>\n",
       "    <tr>\n",
       "      <td>1</td>\n",
       "      <td>2</td>\n",
       "      <td>35</td>\n",
       "      <td>17</td>\n",
       "      <td>4</td>\n",
       "      <td>17</td>\n",
       "      <td>4</td>\n",
       "      <td>17</td>\n",
       "      <td>4</td>\n",
       "      <td>17</td>\n",
       "      <td>4</td>\n",
       "      <td>17</td>\n",
       "      <td>6</td>\n",
       "      <td>2022-04-07T00:00:00</td>\n",
       "      <td>{E18B220C-895C-4D18-BDA0-02F65F997D79}</td>\n",
       "      <td>0.002004</td>\n",
       "      <td>MULTILINESTRING ((16.60537 49.20589, 16.60639 ...</td>\n",
       "    </tr>\n",
       "    <tr>\n",
       "      <td>2</td>\n",
       "      <td>3</td>\n",
       "      <td>37</td>\n",
       "      <td>17</td>\n",
       "      <td>4</td>\n",
       "      <td>17</td>\n",
       "      <td>4</td>\n",
       "      <td>17</td>\n",
       "      <td>4</td>\n",
       "      <td>17</td>\n",
       "      <td>4</td>\n",
       "      <td>17</td>\n",
       "      <td>6</td>\n",
       "      <td>2022-04-07T00:00:00</td>\n",
       "      <td>{010FF252-AFC9-4504-B2A9-2CB29418688F}</td>\n",
       "      <td>0.000436</td>\n",
       "      <td>MULTILINESTRING ((16.60639 49.20417, 16.60662 ...</td>\n",
       "    </tr>\n",
       "    <tr>\n",
       "      <td>3</td>\n",
       "      <td>4</td>\n",
       "      <td>372</td>\n",
       "      <td>2</td>\n",
       "      <td>13</td>\n",
       "      <td>2</td>\n",
       "      <td>12</td>\n",
       "      <td>2</td>\n",
       "      <td>12</td>\n",
       "      <td>2</td>\n",
       "      <td>12</td>\n",
       "      <td>2</td>\n",
       "      <td>12</td>\n",
       "      <td>2022-04-07T00:00:00</td>\n",
       "      <td>{27708839-B408-42DC-922C-406ED375C1B5}</td>\n",
       "      <td>0.006817</td>\n",
       "      <td>MULTILINESTRING ((16.56534 49.26404, 16.56631 ...</td>\n",
       "    </tr>\n",
       "    <tr>\n",
       "      <td>4</td>\n",
       "      <td>5</td>\n",
       "      <td>40</td>\n",
       "      <td>3</td>\n",
       "      <td>4</td>\n",
       "      <td>3</td>\n",
       "      <td>4</td>\n",
       "      <td>3</td>\n",
       "      <td>4</td>\n",
       "      <td>3</td>\n",
       "      <td>4</td>\n",
       "      <td>3</td>\n",
       "      <td>4</td>\n",
       "      <td>2022-04-07T00:00:00</td>\n",
       "      <td>{FC50197E-6744-40CD-B41E-27D017C89560}</td>\n",
       "      <td>0.005153</td>\n",
       "      <td>MULTILINESTRING ((16.60662 49.20380, 16.60571 ...</td>\n",
       "    </tr>\n",
       "  </tbody>\n",
       "</table>\n",
       "</div>"
      ],
      "text/plain": [
       "   ObjectId   id  car_2016  truc_2016  car_2017  truc_2017  car_2018  \\\n",
       "0         1   43         4          5         4          5         4   \n",
       "1         2   35        17          4        17          4        17   \n",
       "2         3   37        17          4        17          4        17   \n",
       "3         4  372         2         13         2         12         2   \n",
       "4         5   40         3          4         3          4         3   \n",
       "\n",
       "   truc_2018  car_2019  truc_2019  car_2020  truc_2020        datum_exportu  \\\n",
       "0          5         4          5         4          5  2022-04-07T00:00:00   \n",
       "1          4        17          4        17          6  2022-04-07T00:00:00   \n",
       "2          4        17          4        17          6  2022-04-07T00:00:00   \n",
       "3         12         2         12         2         12  2022-04-07T00:00:00   \n",
       "4          4         3          4         3          4  2022-04-07T00:00:00   \n",
       "\n",
       "                                 GlobalID  SHAPE_Length  \\\n",
       "0  {224F8442-FA09-40AB-99A0-BE6DA5E1D433}      0.006235   \n",
       "1  {E18B220C-895C-4D18-BDA0-02F65F997D79}      0.002004   \n",
       "2  {010FF252-AFC9-4504-B2A9-2CB29418688F}      0.000436   \n",
       "3  {27708839-B408-42DC-922C-406ED375C1B5}      0.006817   \n",
       "4  {FC50197E-6744-40CD-B41E-27D017C89560}      0.005153   \n",
       "\n",
       "                                            geometry  \n",
       "0  MULTILINESTRING ((16.60537 49.20589, 16.60192 ...  \n",
       "1  MULTILINESTRING ((16.60537 49.20589, 16.60639 ...  \n",
       "2  MULTILINESTRING ((16.60639 49.20417, 16.60662 ...  \n",
       "3  MULTILINESTRING ((16.56534 49.26404, 16.56631 ...  \n",
       "4  MULTILINESTRING ((16.60662 49.20380, 16.60571 ...  "
      ]
     },
     "execution_count": 197,
     "metadata": {},
     "output_type": "execute_result"
    }
   ],
   "source": [
    "df_traffic.head()"
   ]
  },
  {
   "cell_type": "code",
   "execution_count": 44,
   "metadata": {},
   "outputs": [
    {
     "data": {
      "text/plain": [
       "<matplotlib.axes._subplots.AxesSubplot at 0x7fad40855d10>"
      ]
     },
     "execution_count": 44,
     "metadata": {},
     "output_type": "execute_result"
    },
    {
     "data": {
      "image/png": "[encoded data removed]",
      "text/plain": [
       "<Figure size 432x288 with 1 Axes>"
      ]
     },
     "metadata": {
      "needs_background": "light"
     },
     "output_type": "display_data"
    }
   ],
   "source": [
    "df_traffic.plot()"
   ]
  },
  {
   "cell_type": "code",
   "execution_count": 62,
   "metadata": {},
   "outputs": [],
   "source": [
    "df_traffic_buffer = df_traffic.buffer(distance=0.003)"
   ]
  },
  {
   "cell_type": "code",
   "execution_count": 63,
   "metadata": {},
   "outputs": [
    {
     "data": {
      "text/plain": [
       "0      POLYGON ((16.60316 49.20208, 16.60291 49.20195...\n",
       "1      POLYGON ((16.60897 49.20569, 16.60911 49.20542...\n",
       "2      POLYGON ((16.60915 49.20542, 16.60929 49.20517...\n",
       "3      POLYGON ((16.56535 49.26101, 16.56496 49.26106...\n",
       "4      POLYGON ((16.60707 49.20066, 16.60695 49.20060...\n",
       "                             ...                        \n",
       "584    POLYGON ((16.66786 49.18164, 16.66761 49.18162...\n",
       "585    POLYGON ((16.66521 49.18422, 16.66518 49.18442...\n",
       "586    POLYGON ((16.69043 49.18767, 16.69044 49.18768...\n",
       "587    POLYGON ((16.68527 49.16662, 16.68526 49.16673...\n",
       "588    POLYGON ((16.59984 49.12248, 16.59980 49.12275...\n",
       "Length: 589, dtype: geometry"
      ]
     },
     "execution_count": 63,
     "metadata": {},
     "output_type": "execute_result"
    }
   ],
   "source": [
    "df_traffic_buffer"
   ]
  },
  {
   "cell_type": "code",
   "execution_count": 67,
   "metadata": {},
   "outputs": [
    {
     "data": {
      "text/plain": [
       "<matplotlib.axes._subplots.AxesSubplot at 0x7fad3f4673d0>"
      ]
     },
     "execution_count": 67,
     "metadata": {},
     "output_type": "execute_result"
    },
    {
     "data": {
      "image/png": "[encoded data removed]",
      "text/plain": [
       "<Figure size 432x288 with 1 Axes>"
      ]
     },
     "metadata": {
      "needs_background": "light"
     },
     "output_type": "display_data"
    }
   ],
   "source": [
    "df_traffic_buffer.plot()"
   ]
  },
  {
   "cell_type": "code",
   "execution_count": null,
   "metadata": {},
   "outputs": [],
   "source": []
  },
  {
   "cell_type": "code",
   "execution_count": null,
   "metadata": {},
   "outputs": [],
   "source": []
  },
  {
   "cell_type": "code",
   "execution_count": null,
   "metadata": {},
   "outputs": [],
   "source": []
  },
  {
   "cell_type": "code",
   "execution_count": 12,
   "metadata": {},
   "outputs": [],
   "source": [
    "filename = 'Address_points.geojson'\n",
    "file = open(filename, 'rb')\n",
    "df_address = gpd.read_file(file)\n",
    "file.close()"
   ]
  },
  {
   "cell_type": "code",
   "execution_count": 170,
   "metadata": {},
   "outputs": [
    {
     "data": {
      "text/plain": [
       "0    POINT (16.61924 49.19793)\n",
       "1    POINT (16.63468 49.21201)\n",
       "2    POINT (16.59985 49.20092)\n",
       "3    POINT (16.61835 49.23407)\n",
       "4    POINT (16.63475 49.19491)\n",
       "Name: geometry, dtype: geometry"
      ]
     },
     "execution_count": 170,
     "metadata": {},
     "output_type": "execute_result"
    }
   ],
   "source": [
    "df_address['geometry'].head()"
   ]
  },
  {
   "cell_type": "code",
   "execution_count": 32,
   "metadata": {},
   "outputs": [
    {
     "data": {
      "text/plain": [
       "(62551, 13)"
      ]
     },
     "execution_count": 32,
     "metadata": {},
     "output_type": "execute_result"
    }
   ],
   "source": [
    "df_address.shape"
   ]
  },
  {
   "cell_type": "code",
   "execution_count": 85,
   "metadata": {},
   "outputs": [
    {
     "data": {
      "text/plain": [
       "0    POLYGON ((16.60316 49.20208, 16.60291 49.20195...\n",
       "1    POLYGON ((16.60897 49.20569, 16.60911 49.20542...\n",
       "2    POLYGON ((16.60915 49.20542, 16.60929 49.20517...\n",
       "3    POLYGON ((16.56535 49.26101, 16.56496 49.26106...\n",
       "4    POLYGON ((16.60707 49.20066, 16.60695 49.20060...\n",
       "dtype: geometry"
      ]
     },
     "execution_count": 85,
     "metadata": {},
     "output_type": "execute_result"
    }
   ],
   "source": [
    "df_traffic_buffer.head()"
   ]
  },
  {
   "cell_type": "markdown",
   "metadata": {},
   "source": [
    "### unasable\n",
    "\n",
    "df_address['is_in_traffic_line'] = df_address.geometry.within(df_traffic_buffer.geometry)\n",
    "\n",
    "df_address[df_address['is_in_traffic_line'] == True]"
   ]
  },
  {
   "cell_type": "code",
   "execution_count": 96,
   "metadata": {},
   "outputs": [],
   "source": [
    "_pnts = df_address.geometry\n",
    "df_address_temp = df_address\n",
    "df_address_temp = df_address_temp.assign(**{str(key): df_address_temp.within(geometry) for key, geometry in df_traffic_buffer.items()})"
   ]
  },
  {
   "cell_type": "code",
   "execution_count": 98,
   "metadata": {},
   "outputs": [
    {
     "data": {
      "text/html": [
       "<div>\n",
       "<style scoped>\n",
       "    .dataframe tbody tr th:only-of-type {\n",
       "        vertical-align: middle;\n",
       "    }\n",
       "\n",
       "    .dataframe tbody tr th {\n",
       "        vertical-align: top;\n",
       "    }\n",
       "\n",
       "    .dataframe thead th {\n",
       "        text-align: right;\n",
       "    }\n",
       "</style>\n",
       "<table border=\"1\" class=\"dataframe\">\n",
       "  <thead>\n",
       "    <tr style=\"text-align: right;\">\n",
       "      <th></th>\n",
       "      <th>ObjectId</th>\n",
       "      <th>obec_nazev</th>\n",
       "      <th>cislo_domovni</th>\n",
       "      <th>cislo_orientacni_hodnota</th>\n",
       "      <th>cislo_orientacni_pismeno</th>\n",
       "      <th>ulice_nazev</th>\n",
       "      <th>cobce_nazev</th>\n",
       "      <th>psc</th>\n",
       "      <th>stavobj_kod</th>\n",
       "      <th>puvod</th>\n",
       "      <th>...</th>\n",
       "      <th>579</th>\n",
       "      <th>580</th>\n",
       "      <th>581</th>\n",
       "      <th>582</th>\n",
       "      <th>583</th>\n",
       "      <th>584</th>\n",
       "      <th>585</th>\n",
       "      <th>586</th>\n",
       "      <th>587</th>\n",
       "      <th>588</th>\n",
       "    </tr>\n",
       "  </thead>\n",
       "  <tbody>\n",
       "    <tr>\n",
       "      <td>0</td>\n",
       "      <td>1</td>\n",
       "      <td>Brno</td>\n",
       "      <td>503.0</td>\n",
       "      <td>36.0</td>\n",
       "      <td>None</td>\n",
       "      <td>Cejl</td>\n",
       "      <td>Zábrdovice</td>\n",
       "      <td>60200.0</td>\n",
       "      <td>19023804</td>\n",
       "      <td>geometrie z DMB</td>\n",
       "      <td>...</td>\n",
       "      <td>False</td>\n",
       "      <td>False</td>\n",
       "      <td>False</td>\n",
       "      <td>False</td>\n",
       "      <td>False</td>\n",
       "      <td>False</td>\n",
       "      <td>False</td>\n",
       "      <td>False</td>\n",
       "      <td>False</td>\n",
       "      <td>False</td>\n",
       "    </tr>\n",
       "    <tr>\n",
       "      <td>1</td>\n",
       "      <td>2</td>\n",
       "      <td>Brno</td>\n",
       "      <td>168.0</td>\n",
       "      <td>51.0</td>\n",
       "      <td>None</td>\n",
       "      <td>Dukelská třída</td>\n",
       "      <td>Husovice</td>\n",
       "      <td>61400.0</td>\n",
       "      <td>19074514</td>\n",
       "      <td>geometrie z DMB</td>\n",
       "      <td>...</td>\n",
       "      <td>False</td>\n",
       "      <td>False</td>\n",
       "      <td>False</td>\n",
       "      <td>False</td>\n",
       "      <td>False</td>\n",
       "      <td>False</td>\n",
       "      <td>False</td>\n",
       "      <td>False</td>\n",
       "      <td>False</td>\n",
       "      <td>False</td>\n",
       "    </tr>\n",
       "    <tr>\n",
       "      <td>2</td>\n",
       "      <td>3</td>\n",
       "      <td>Brno</td>\n",
       "      <td>471.0</td>\n",
       "      <td>29.0</td>\n",
       "      <td>None</td>\n",
       "      <td>Veveří</td>\n",
       "      <td>Veveří</td>\n",
       "      <td>60200.0</td>\n",
       "      <td>19009470</td>\n",
       "      <td>geometrie z DMB</td>\n",
       "      <td>...</td>\n",
       "      <td>False</td>\n",
       "      <td>False</td>\n",
       "      <td>False</td>\n",
       "      <td>False</td>\n",
       "      <td>False</td>\n",
       "      <td>False</td>\n",
       "      <td>False</td>\n",
       "      <td>False</td>\n",
       "      <td>False</td>\n",
       "      <td>False</td>\n",
       "    </tr>\n",
       "    <tr>\n",
       "      <td>3</td>\n",
       "      <td>4</td>\n",
       "      <td>Brno</td>\n",
       "      <td>557.0</td>\n",
       "      <td>18.0</td>\n",
       "      <td>None</td>\n",
       "      <td>Jurkovičova</td>\n",
       "      <td>Lesná</td>\n",
       "      <td>63800.0</td>\n",
       "      <td>19094621</td>\n",
       "      <td>geometrie z DMB</td>\n",
       "      <td>...</td>\n",
       "      <td>False</td>\n",
       "      <td>False</td>\n",
       "      <td>False</td>\n",
       "      <td>False</td>\n",
       "      <td>False</td>\n",
       "      <td>False</td>\n",
       "      <td>False</td>\n",
       "      <td>False</td>\n",
       "      <td>False</td>\n",
       "      <td>False</td>\n",
       "    </tr>\n",
       "    <tr>\n",
       "      <td>4</td>\n",
       "      <td>5</td>\n",
       "      <td>Brno</td>\n",
       "      <td>3280.0</td>\n",
       "      <td>24.0</td>\n",
       "      <td>None</td>\n",
       "      <td>Šámalova</td>\n",
       "      <td>Židenice</td>\n",
       "      <td>61500.0</td>\n",
       "      <td>19446969</td>\n",
       "      <td>geometrie z DMB</td>\n",
       "      <td>...</td>\n",
       "      <td>False</td>\n",
       "      <td>False</td>\n",
       "      <td>False</td>\n",
       "      <td>False</td>\n",
       "      <td>False</td>\n",
       "      <td>False</td>\n",
       "      <td>False</td>\n",
       "      <td>False</td>\n",
       "      <td>False</td>\n",
       "      <td>False</td>\n",
       "    </tr>\n",
       "  </tbody>\n",
       "</table>\n",
       "<p>5 rows × 603 columns</p>\n",
       "</div>"
      ],
      "text/plain": [
       "   ObjectId obec_nazev  cislo_domovni  cislo_orientacni_hodnota  \\\n",
       "0         1       Brno          503.0                      36.0   \n",
       "1         2       Brno          168.0                      51.0   \n",
       "2         3       Brno          471.0                      29.0   \n",
       "3         4       Brno          557.0                      18.0   \n",
       "4         5       Brno         3280.0                      24.0   \n",
       "\n",
       "  cislo_orientacni_pismeno     ulice_nazev cobce_nazev      psc  stavobj_kod  \\\n",
       "0                     None            Cejl  Zábrdovice  60200.0     19023804   \n",
       "1                     None  Dukelská třída    Husovice  61400.0     19074514   \n",
       "2                     None          Veveří      Veveří  60200.0     19009470   \n",
       "3                     None     Jurkovičova       Lesná  63800.0     19094621   \n",
       "4                     None        Šámalova    Židenice  61500.0     19446969   \n",
       "\n",
       "             puvod  ...    579    580    581    582    583    584    585  \\\n",
       "0  geometrie z DMB  ...  False  False  False  False  False  False  False   \n",
       "1  geometrie z DMB  ...  False  False  False  False  False  False  False   \n",
       "2  geometrie z DMB  ...  False  False  False  False  False  False  False   \n",
       "3  geometrie z DMB  ...  False  False  False  False  False  False  False   \n",
       "4  geometrie z DMB  ...  False  False  False  False  False  False  False   \n",
       "\n",
       "     586    587    588  \n",
       "0  False  False  False  \n",
       "1  False  False  False  \n",
       "2  False  False  False  \n",
       "3  False  False  False  \n",
       "4  False  False  False  \n",
       "\n",
       "[5 rows x 603 columns]"
      ]
     },
     "execution_count": 98,
     "metadata": {},
     "output_type": "execute_result"
    }
   ],
   "source": [
    "df_address_temp.head()"
   ]
  },
  {
   "cell_type": "code",
   "execution_count": 113,
   "metadata": {},
   "outputs": [
    {
     "data": {
      "text/plain": [
       "(62551, 603)"
      ]
     },
     "execution_count": 113,
     "metadata": {},
     "output_type": "execute_result"
    }
   ],
   "source": [
    "df_address_temp.shape"
   ]
  },
  {
   "cell_type": "code",
   "execution_count": 180,
   "metadata": {},
   "outputs": [],
   "source": [
    "df_address_bool = df_address_temp.iloc[:,14:]"
   ]
  },
  {
   "cell_type": "code",
   "execution_count": 181,
   "metadata": {},
   "outputs": [],
   "source": [
    "address_roads = df_address_bool.apply(lambda address: address[address==True].index, axis=1)"
   ]
  },
  {
   "cell_type": "code",
   "execution_count": 182,
   "metadata": {},
   "outputs": [
    {
     "data": {
      "text/plain": [
       "0             Index(['503', '507', '510'], dtype='object')\n",
       "1        Index(['96', '97', '117', '118', '131', '132',...\n",
       "2        Index(['0', '4', '7', '10', '12', '13', '15', ...\n",
       "3                      Index(['76', '77'], dtype='object')\n",
       "4             Index(['153', '154', '216'], dtype='object')\n",
       "                               ...                        \n",
       "62546                            Index([], dtype='object')\n",
       "62547                Index(['174', '175'], dtype='object')\n",
       "62548                       Index(['253'], dtype='object')\n",
       "62549                       Index(['320'], dtype='object')\n",
       "62550         Index(['155', '156', '569'], dtype='object')\n",
       "Length: 62551, dtype: object"
      ]
     },
     "execution_count": 182,
     "metadata": {},
     "output_type": "execute_result"
    }
   ],
   "source": [
    "address_roads"
   ]
  },
  {
   "cell_type": "markdown",
   "metadata": {},
   "source": [
    "help(address_roads[0].values)"
   ]
  },
  {
   "cell_type": "markdown",
   "metadata": {},
   "source": [
    "from statistics import mean\n",
    "\n",
    "indices = [int(item) for item in address_roads[0].values]\n",
    "\n",
    "print('address_roads[0] ' + str(indices))\n",
    "print('hello ' + str(df_traffic.iloc[indices, 10]))\n",
    "\n",
    "print('list ' + str(list(df_traffic.iloc[indices, 10])))\n",
    "\n",
    "mean(df_traffic.iloc[indices, 10])"
   ]
  },
  {
   "cell_type": "markdown",
   "metadata": {},
   "source": [
    "# score"
   ]
  },
  {
   "cell_type": "code",
   "execution_count": 243,
   "metadata": {},
   "outputs": [],
   "source": [
    "from statistics import mean\n",
    "#df_address_temp['traffic_score'] = mean(df_traffic.loc[list(address_roads),'car_2020'])\n",
    "for i in range(df_address_temp.shape[0]):\n",
    "    indices = [int(item) for item in address_roads[i].values]\n",
    "    if indices:\n",
    "        df_address_temp.loc[i, 'traffic_score'] = mean(df_traffic.iloc[indices, 10])"
   ]
  },
  {
   "cell_type": "code",
   "execution_count": 245,
   "metadata": {},
   "outputs": [
    {
     "name": "stderr",
     "output_type": "stream",
     "text": [
      "/home/marosj/anaconda3/lib/python3.7/site-packages/ipykernel_launcher.py:1: FutureWarning: The signature of `Series.to_csv` was aligned to that of `DataFrame.to_csv`, and argument 'header' will change its default value from False to True: please pass an explicit value to suppress this warning.\n",
      "  \"\"\"Entry point for launching an IPython kernel.\n"
     ]
    }
   ],
   "source": [
    "df_address_temp['traffic_score'].to_csv('traffic.csv')"
   ]
  },
  {
   "cell_type": "code",
   "execution_count": 238,
   "metadata": {},
   "outputs": [
    {
     "data": {
      "text/plain": [
       "7.333333333333333"
      ]
     },
     "execution_count": 238,
     "metadata": {},
     "output_type": "execute_result"
    }
   ],
   "source": [
    "df_address_temp.loc[0, 'traffic_score']"
   ]
  },
  {
   "cell_type": "code",
   "execution_count": null,
   "metadata": {},
   "outputs": [],
   "source": []
  },
  {
   "cell_type": "markdown",
   "metadata": {},
   "source": [
    "%%timeit\n",
    "[key for key in list(df_address_temp.keys())[1:-1] if df_address_temp.loc[0,:][key] == True]\n",
    "\n",
    "test_ind = [int(key) for key in list(df_address_temp.keys()) if str(df_address_temp.loc[0,:][key]) == 'True']\n",
    "\n",
    "df_traffic['car_2020'][test_ind]\n",
    "\n",
    "from statistics import mean\n",
    "\n",
    "df_address_temp.keys()\n",
    "\n",
    "addr_keys = list(df_address_temp.keys())\n",
    "#print(addr_keys)\n",
    "addr_keys[14:]\n",
    "\n",
    "df_address['traffic_id'] = ''\n",
    "\n",
    "for i in range(df_address.shape[0]):\n",
    "    #print(df_address_temp.iloc[i,:15])\n",
    "    list_traffics_indx = [str(key) for key in list(df_address_temp.keys())[14:] if df_address_temp.loc[i,:][key] == True]\n",
    "    #print(list_traffics_indx)\n",
    "    if list_traffics_indx:\n",
    "        df_address.at[i, 'traffic_id'] = str(list_traffics_indx)#','.join(list_traffics_indx)\n",
    "        #mean(df_traffic['car_2020'][list_traffics_indx])\n",
    "    #else:\n",
    "    #    df_address.at[i, 'traffic_id'] = -1"
   ]
  },
  {
   "cell_type": "code",
   "execution_count": 112,
   "metadata": {},
   "outputs": [
    {
     "name": "stdout",
     "output_type": "stream",
     "text": [
      "ObjectId                                                       504\n",
      "id                                                             416\n",
      "car_2016                                                         3\n",
      "truc_2016                                                        6\n",
      "car_2017                                                         3\n",
      "truc_2017                                                        6\n",
      "car_2018                                                         3\n",
      "truc_2018                                                        6\n",
      "car_2019                                                         3\n",
      "truc_2019                                                        6\n",
      "car_2020                                                         3\n",
      "truc_2020                                                        3\n",
      "datum_exportu                                  2022-04-07T00:00:00\n",
      "GlobalID                    {B8337481-A7B9-4004-A098-AC7FFEAF0FD8}\n",
      "SHAPE_Length                                            0.00520158\n",
      "geometry         (LINESTRING (16.61833028200004 49.192010372000...\n",
      "Name: 503, dtype: object\n"
     ]
    }
   ],
   "source": [
    "print(df_traffic.iloc[503])"
   ]
  },
  {
   "cell_type": "code",
   "execution_count": null,
   "metadata": {},
   "outputs": [],
   "source": []
  },
  {
   "cell_type": "code",
   "execution_count": null,
   "metadata": {},
   "outputs": [],
   "source": []
  },
  {
   "cell_type": "code",
   "execution_count": null,
   "metadata": {},
   "outputs": [],
   "source": []
  },
  {
   "cell_type": "code",
   "execution_count": 36,
   "metadata": {},
   "outputs": [
    {
     "data": {
      "text/plain": [
       "<matplotlib.axes._subplots.AxesSubplot at 0x7fad40aef890>"
      ]
     },
     "execution_count": 36,
     "metadata": {},
     "output_type": "execute_result"
    },
    {
     "data": {
      "image/png": "[encoded data removed]",
      "text/plain": [
       "<Figure size 432x288 with 1 Axes>"
      ]
     },
     "metadata": {
      "needs_background": "light"
     },
     "output_type": "display_data"
    }
   ],
   "source": [
    "df_address.plot()"
   ]
  },
  {
   "cell_type": "code",
   "execution_count": null,
   "metadata": {},
   "outputs": [],
   "source": []
  },
  {
   "cell_type": "code",
   "execution_count": null,
   "metadata": {},
   "outputs": [],
   "source": []
  },
  {
   "cell_type": "code",
   "execution_count": null,
   "metadata": {},
   "outputs": [],
   "source": []
  },
  {
   "cell_type": "code",
   "execution_count": null,
   "metadata": {},
   "outputs": [],
   "source": []
  },
  {
   "cell_type": "code",
   "execution_count": 24,
   "metadata": {},
   "outputs": [],
   "source": [
    "from dash import Dash, html\n",
    "import dash_leaflet as dl\n",
    "import dash_leaflet.express as dlx\n",
    "import pandas as pd\n",
    "from dash_extensions.javascript import assign\n",
    "\n",
    "color_prop = 'ObjectId'\n",
    "\n",
    "df = pd.read_csv('assets/adresní_místa___Address_points.csv')\n",
    "\n",
    "# traffic\n",
    "metric_folder = 'datasets_computations/dataset_outputs/'\n",
    "df_traffic = pd.read_csv(metric_folder+'traffic.csv', index_col=0, header=None)\n",
    "df['trafic_score'] = df_traffic.loc[:,1]\n",
    "df['trafic_score'] = df['trafic_score'].fillna(0)\n",
    "df['trafic_score_rel'] = df['trafic_score']/df['trafic_score'].abs().max()\n",
    "\n",
    "# skolky\n",
    "df_skolka = pd.read_csv(metric_folder + 'skolky.csv', index_col=0, header=None)\n",
    "df_skolka_join = df.join(df_skolka, how='left')\n",
    "df['skolka_score'] = df_skolka_join.loc[:,1]\n",
    "df['skolka_score'] = df['skolka_score'].fillna(0)\n",
    "df['skolka_score_rel'] = df['skolka_score']/df['skolka_score'].abs().max()\n",
    "\n",
    "# prach\n",
    "df_prach = pd.read_csv(metric_folder + 'particles.csv')\n",
    "df['prach'] = df_prach['pm10_1h']\n",
    "df['prach_rel'] = (df['prach'] - df['prach'].min())/(df['prach'] - df['prach'].min()).abs().max()\n",
    "\n",
    "# brownies\n",
    "df_brownies = pd.read_csv(metric_folder + 'brownfields.csv', index_col=0, header=None)\n",
    "df_brownies_join = df.join(df_brownies, how='left')\n",
    "df['brownies_score'] = df_brownies_join.loc[:,1]\n",
    "df['brownies_score'] = df['brownies_score'].fillna(0)\n",
    "df['brownies_score_rel'] = df['brownies_score']/df['brownies_score'].abs().max()\n",
    "\n",
    "def get_final_score(w_skolka, w_traffic, w_brownies, w_prach):\n",
    "    df['final'] = w_skolka * df['skolka_score_rel'] - w_traffic * df['trafic_score_rel'] - w_brownies * df['brownies_score_rel'] - w_prach * df['prach_rel']\n",
    "    \n",
    "    if df['final'].min() < 0:\n",
    "        df['final'] = df['final'] - df['final'].min()\n",
    "        df['final_rel'] = ((df['final']/df['final'].abs().max())*10).round().astype(int)\n",
    "    elif df['final'].min() > 0:\n",
    "        df['final'] = df['final'] - df['final'].min()\n",
    "        df['final_rel'] = ((df['final']/df['final'].abs().max())*10).round().astype(int)\n",
    "    else:\n",
    "        df['final_rel'] = ((df['final']/df['final'].abs().max())*10).round().astype(int)"
   ]
  },
  {
   "cell_type": "code",
   "execution_count": null,
   "metadata": {},
   "outputs": [],
   "source": []
  }
 ],
 "metadata": {
  "kernelspec": {
   "display_name": "Python 3",
   "language": "python",
   "name": "python3"
  },
  "language_info": {
   "codemirror_mode": {
    "name": "ipython",
    "version": 3
   },
   "file_extension": ".py",
   "mimetype": "text/x-python",
   "name": "python",
   "nbconvert_exporter": "python",
   "pygments_lexer": "ipython3",
   "version": "3.7.4"
  }
 },
 "nbformat": 4,
 "nbformat_minor": 2
}
